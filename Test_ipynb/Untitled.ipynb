{
 "cells": [
  {
   "cell_type": "code",
   "execution_count": 1,
   "id": "e6de0673",
   "metadata": {},
   "outputs": [],
   "source": [
    "import os,sys,yaml\n",
    "config_file_path=os.path.join(\"yaml_files\",\"config.yaml\")"
   ]
  },
  {
   "cell_type": "code",
   "execution_count": 2,
   "id": "4ff1d479",
   "metadata": {},
   "outputs": [],
   "source": [
    "os.chdir('C:\\\\Users\\\\1672040\\\\Desktop\\\\project\\\\Energy efficiency')"
   ]
  },
  {
   "cell_type": "code",
   "execution_count": 3,
   "id": "beb94b44",
   "metadata": {},
   "outputs": [],
   "source": [
    "config_info=None\n",
    "with open(config_file_path,\"rb\") as yaml_file:\n",
    "    config_info=yaml.safe_load(yaml_file)"
   ]
  },
  {
   "cell_type": "code",
   "execution_count": 4,
   "id": "44305be5",
   "metadata": {},
   "outputs": [
    {
     "data": {
      "text/plain": [
       "{'training_pipeline_config': {'pipeline_name': 'housing',\n",
       "  'artifact_dir': 'artifact'},\n",
       " 'data_ingestion_config': {'dataset_download_url': 'https://raw.githubusercontent.com/ashishshukla23sep/Energy_efficiency_mlops/main/cleaned_data.csv',\n",
       "  'raw_data_dir': 'raw_data',\n",
       "  'tgz_download_dir': 'tgz_data',\n",
       "  'ingested_dir': 'ingested_data',\n",
       "  'ingested_train_dir': 'train',\n",
       "  'ingested_test_dir': 'test'},\n",
       " 'data_validation_config': {'schema_dir': 'yaml_files',\n",
       "  'schema_file_name': 'schema.yaml',\n",
       "  'report_file_name': 'report.json',\n",
       "  'report_page_file_name': 'report.html'},\n",
       " 'data_transformation_config': {'add_bedroom_per_room': True,\n",
       "  'transformed_dir': 'transformed_data',\n",
       "  'transformed_train_dir': 'train',\n",
       "  'transformed_test_dir': 'test',\n",
       "  'preprocessing_dir': 'preprocessed',\n",
       "  'preprocessed_object_file_name': 'preprocessed.pkl'},\n",
       " 'model_trainer_config': {'trained_model_dir': 'trained_model',\n",
       "  'model_file_name': 'model.pkl',\n",
       "  'base_accuracy': 0.6,\n",
       "  'model_config_dir': 'yaml_files',\n",
       "  'model_config_file_name': 'model.yaml'},\n",
       " 'model_evaluation_config': {'model_evaluation_file_name': 'model_evaluation.yaml'},\n",
       " 'model_pusher_config': {'model_export_dir': 'saved_models'}}"
      ]
     },
     "execution_count": 4,
     "metadata": {},
     "output_type": "execute_result"
    }
   ],
   "source": [
    "config_info"
   ]
  },
  {
   "cell_type": "code",
   "execution_count": 33,
   "id": "43171c92",
   "metadata": {},
   "outputs": [
    {
     "data": {
      "text/plain": [
       "{'dataset_download_url': 'https://raw.githubusercontent.com/ageron/handson-ml/master/datasets/housing/housing.tgz',\n",
       " 'raw_data_dir': 'raw_data',\n",
       " 'tgz_download_dir': 'tgz_data',\n",
       " 'ingested_dir': 'ingested_data',\n",
       " 'ingested_train_dir': 'train',\n",
       " 'ingested_test_dir': 'test'}"
      ]
     },
     "execution_count": 33,
     "metadata": {},
     "output_type": "execute_result"
    }
   ],
   "source": [
    "config_info[\"data_ingestion_config\"]"
   ]
  },
  {
   "cell_type": "code",
   "execution_count": 6,
   "id": "5b4ee70d",
   "metadata": {},
   "outputs": [],
   "source": [
    "from Energy_efficiency.constant import *"
   ]
  },
  {
   "cell_type": "code",
   "execution_count": 12,
   "id": "aec4598c",
   "metadata": {},
   "outputs": [
    {
     "data": {
      "text/plain": [
       "({'pipeline_name': 'housing', 'artifact_dir': 'artifact'},\n",
       " 'pipeline_name',\n",
       " 'artifact_dir')"
      ]
     },
     "execution_count": 12,
     "metadata": {},
     "output_type": "execute_result"
    }
   ],
   "source": [
    "training_pipeline_config = config_info[TRAINING_PIPELINE_CONFIG_KEY]\n",
    "training_pipeline_config,TRAINING_PIPELINE_NAME_KEY,TRAINING_PIPELINE_ARTIFACT_DIR_KEY"
   ]
  },
  {
   "cell_type": "code",
   "execution_count": 13,
   "id": "088ba912",
   "metadata": {},
   "outputs": [],
   "source": [
    "artifact_dir = os.path.join(ROOT_DIR,\n",
    "training_pipeline_config[TRAINING_PIPELINE_NAME_KEY],\n",
    "training_pipeline_config[TRAINING_PIPELINE_ARTIFACT_DIR_KEY]\n",
    ")"
   ]
  },
  {
   "cell_type": "code",
   "execution_count": 14,
   "id": "d5e05dca",
   "metadata": {},
   "outputs": [
    {
     "data": {
      "text/plain": [
       "'C:\\\\Users\\\\1672040\\\\Desktop\\\\project\\\\Energy efficiency\\\\housing\\\\artifact'"
      ]
     },
     "execution_count": 14,
     "metadata": {},
     "output_type": "execute_result"
    }
   ],
   "source": [
    "artifact_dir"
   ]
  },
  {
   "cell_type": "code",
   "execution_count": 17,
   "id": "ea1b257b",
   "metadata": {},
   "outputs": [
    {
     "ename": "ImportError",
     "evalue": "cannot import name 'logging' from 'Energy_efficiency.logger' (C:\\Users\\1672040\\Desktop\\project\\Energy efficiency\\Energy_efficiency\\logger\\__init__.py)",
     "output_type": "error",
     "traceback": [
      "\u001b[1;31m---------------------------------------------------------------------------\u001b[0m",
      "\u001b[1;31mImportError\u001b[0m                               Traceback (most recent call last)",
      "\u001b[1;32m<ipython-input-17-a59794941728>\u001b[0m in \u001b[0;36m<module>\u001b[1;34m\u001b[0m\n\u001b[1;32m----> 1\u001b[1;33m \u001b[1;32mfrom\u001b[0m \u001b[0mEnergy_efficiency\u001b[0m\u001b[1;33m.\u001b[0m\u001b[0mlogger\u001b[0m \u001b[1;32mimport\u001b[0m \u001b[0mlogging\u001b[0m\u001b[1;33m\u001b[0m\u001b[1;33m\u001b[0m\u001b[0m\n\u001b[0m",
      "\u001b[1;31mImportError\u001b[0m: cannot import name 'logging' from 'Energy_efficiency.logger' (C:\\Users\\1672040\\Desktop\\project\\Energy efficiency\\Energy_efficiency\\logger\\__init__.py)"
     ]
    }
   ],
   "source": [
    "from Energy_efficiency.logger import logging"
   ]
  },
  {
   "cell_type": "code",
   "execution_count": 1,
   "id": "2ee8f503",
   "metadata": {},
   "outputs": [],
   "source": [
    "os.chdir('C:\\\\Users\\\\1672040\\\\Desktop\\\\project\\\\Energy efficiency')"
   ]
  },
  {
   "cell_type": "code",
   "execution_count": 11,
   "id": "c1607f8b",
   "metadata": {},
   "outputs": [],
   "source": [
    "from Energy_efficiency.config.configuration import Configuartion"
   ]
  },
  {
   "cell_type": "code",
   "execution_count": 12,
   "id": "858b817a",
   "metadata": {},
   "outputs": [],
   "source": [
    "config=Configuartion()"
   ]
  },
  {
   "cell_type": "code",
   "execution_count": 13,
   "id": "3451dc4a",
   "metadata": {},
   "outputs": [
    {
     "data": {
      "text/plain": [
       "DataIngestionConfig(dataset_download_url='https://raw.githubusercontent.com/ashishshukla23sep/Energy_efficiency_mlops/main/cleaned_data.csv', tgz_download_dir='C:\\\\Users\\\\1672040\\\\Desktop\\\\project\\\\Energy efficiency\\\\Energy_efficiency\\\\artifact\\\\data_ingestion\\\\2022-07-13-21-26-12\\\\tgz_data', raw_data_dir='C:\\\\Users\\\\1672040\\\\Desktop\\\\project\\\\Energy efficiency\\\\Energy_efficiency\\\\artifact\\\\data_ingestion\\\\2022-07-13-21-26-12\\\\raw_data', ingested_train_dir='C:\\\\Users\\\\1672040\\\\Desktop\\\\project\\\\Energy efficiency\\\\Energy_efficiency\\\\artifact\\\\data_ingestion\\\\2022-07-13-21-26-12\\\\ingested_data\\\\train', ingested_test_dir='C:\\\\Users\\\\1672040\\\\Desktop\\\\project\\\\Energy efficiency\\\\Energy_efficiency\\\\artifact\\\\data_ingestion\\\\2022-07-13-21-26-12\\\\ingested_data\\\\test')"
      ]
     },
     "execution_count": 13,
     "metadata": {},
     "output_type": "execute_result"
    }
   ],
   "source": [
    "config.get_data_ingestion_config()"
   ]
  },
  {
   "cell_type": "code",
   "execution_count": 14,
   "id": "17a96857",
   "metadata": {},
   "outputs": [
    {
     "data": {
      "text/plain": [
       "UUID('eb37f176-7c64-4ba8-8a9f-9fefd22c0fb0')"
      ]
     },
     "execution_count": 14,
     "metadata": {},
     "output_type": "execute_result"
    }
   ],
   "source": [
    "import uuid\n",
    "uuid.uuid4()"
   ]
  },
  {
   "cell_type": "code",
   "execution_count": 15,
   "id": "25f24165",
   "metadata": {},
   "outputs": [
    {
     "data": {
      "text/plain": [
       "UUID('fc06bac3-e434-4e22-8ce2-293673e69a9f')"
      ]
     },
     "execution_count": 15,
     "metadata": {},
     "output_type": "execute_result"
    }
   ],
   "source": [
    "uuid.uuid4()"
   ]
  },
  {
   "cell_type": "code",
   "execution_count": 1,
   "id": "e6f7bbd6",
   "metadata": {},
   "outputs": [],
   "source": [
    "model_yaml_path=r\"C:\\Users\\1672040\\Desktop\\project\\Energy efficiency\\yaml_files\\model.yaml\""
   ]
  },
  {
   "cell_type": "code",
   "execution_count": 2,
   "id": "8eff4aa2",
   "metadata": {},
   "outputs": [
    {
     "ename": "ModuleNotFoundError",
     "evalue": "No module named 'Energy_efficiency'",
     "output_type": "error",
     "traceback": [
      "\u001b[1;31m---------------------------------------------------------------------------\u001b[0m",
      "\u001b[1;31mModuleNotFoundError\u001b[0m                       Traceback (most recent call last)",
      "\u001b[1;32m<ipython-input-2-b6d60fcbb2e7>\u001b[0m in \u001b[0;36m<module>\u001b[1;34m\u001b[0m\n\u001b[1;32m----> 1\u001b[1;33m \u001b[1;32mfrom\u001b[0m \u001b[0mEnergy_efficiency\u001b[0m\u001b[1;33m.\u001b[0m\u001b[0mentity\u001b[0m\u001b[1;33m.\u001b[0m\u001b[0mmodel_factory\u001b[0m \u001b[1;32mimport\u001b[0m \u001b[0mModelFactory\u001b[0m\u001b[1;33m\u001b[0m\u001b[1;33m\u001b[0m\u001b[0m\n\u001b[0m\u001b[0;32m      2\u001b[0m \u001b[0mmodel_factory\u001b[0m\u001b[1;33m=\u001b[0m\u001b[0mModelFactory\u001b[0m\u001b[1;33m(\u001b[0m\u001b[0mmodel_config_path\u001b[0m\u001b[1;33m=\u001b[0m\u001b[0mmodel_yaml_path\u001b[0m\u001b[1;33m)\u001b[0m\u001b[1;33m\u001b[0m\u001b[1;33m\u001b[0m\u001b[0m\n",
      "\u001b[1;31mModuleNotFoundError\u001b[0m: No module named 'Energy_efficiency'"
     ]
    }
   ],
   "source": [
    "\n",
    "from Energy_efficiency.entity.model_factory import ModelFactory\n",
    "model_factory=ModelFactory(model_config_path=model_yaml_path)"
   ]
  }
 ],
 "metadata": {
  "kernelspec": {
   "display_name": "Python 3.7.9 64-bit",
   "language": "python",
   "name": "python3"
  },
  "language_info": {
   "codemirror_mode": {
    "name": "ipython",
    "version": 3
   },
   "file_extension": ".py",
   "mimetype": "text/x-python",
   "name": "python",
   "nbconvert_exporter": "python",
   "pygments_lexer": "ipython3",
   "version": "3.7.9"
  },
  "vscode": {
   "interpreter": {
    "hash": "687b40f0541864b08d350ba0350a8fe916313c6a63bef31911d10be3542266fb"
   }
  }
 },
 "nbformat": 4,
 "nbformat_minor": 5
}
